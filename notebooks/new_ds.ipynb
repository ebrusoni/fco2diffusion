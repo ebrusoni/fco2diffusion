{
 "cells": [
  {
   "cell_type": "markdown",
   "id": "ee524ed5",
   "metadata": {},
   "source": [
    "scratch notebook for coding helper functions for the new dataset version"
   ]
  },
  {
   "cell_type": "code",
   "execution_count": null,
   "id": "e4b77fcc",
   "metadata": {},
   "outputs": [],
   "source": [
    "import numpy as np\n",
    "import pandas as pd\n",
    "import random\n",
    "\n",
    "def get_segments_random(df, cols, num_windows=64, n=3):\n",
    "    \"\"\"extraxt arrays of size num_windows from the dataframe df randomly\"\"\"\n",
    "\n",
    "\n",
    "    # Get the number of rows in the dataframe\n",
    "    num_rows = df.shape[0]\n",
    "    num_segments = (num_rows // num_windows) * n\n",
    "\n",
    "    starting_indices = random.sample(range(num_rows - num_windows), num_segments)\n",
    "    cruise_ds = np.zeros((num_segments, num_windows, len(cols)), dtype=np.float32)\n",
    "\n",
    "    starting_indices.sort()\n",
    "    for i, start in enumerate(starting_indices):\n",
    "        cruise_ds[i] = df.iloc[start:start + num_windows][cols].values\n",
    "\n",
    "    return cruise_ds\n",
    "\n",
    "def get_segments(df, cols, num_windows=64, step=64, offset=0):\n",
    "    \"\"\"extract arrays of size num_windows from the dataframe df\"\"\"\n",
    "    # Get the number of rows in the dataframe\n",
    "    num_rows = df.shape[0]\n",
    "    starting_indices = range(offset, num_rows - num_windows, step)\n",
    "\n",
    "    num_segments = len(starting_indices)\n",
    "    cruise_ds = np.zeros((num_segments, num_windows, len(cols)), dtype=np.float32)\n",
    "\n",
    "    for i, start in enumerate(starting_indices):\n",
    "        cruise_ds[i] = df.iloc[start:start + num_windows][cols].values\n",
    "\n",
    "    return cruise_ds\n",
    "\n",
    "    \n"
   ]
  }
 ],
 "metadata": {
  "language_info": {
   "name": "python"
  }
 },
 "nbformat": 4,
 "nbformat_minor": 5
}
