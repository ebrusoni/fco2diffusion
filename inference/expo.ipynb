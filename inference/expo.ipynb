{
 "cells": [
  {
   "cell_type": "code",
   "execution_count": 2,
   "id": "126c9dda",
   "metadata": {},
   "outputs": [],
   "source": [
    "from fco2models.models import UNet2DModelWrapper\n",
    "from fco2models.ueval import load_models\n",
    "model_info = {\n",
    "    #'seas_noattn_100': ['../models/renko/seasonal/noattn/', 'e_100.pt', UNet2DModelWrapper],\n",
    "    #'noattn_100': ['../models/renko/unet2d_noattn/', 'e_100.pt', UNet2DModelWrapper],\n",
    "    #'conv_attn_220': ['../models/renko/unet2d_fixsplit/', 'e_220.pt', UNet2DModelWrapper],\n",
    "    'pp_100': ['../models/constlr/pointpos/', 'e_100.pt', UNet2DModelWrapper],\n",
    "    #'attn_first_50': ['../models/renko/attn_first/', 'e_50.pt', UNet2DModelWrapper],\n",
    "    #'conv_attn_300': ['../models/renko/unet2d_fixsplit/', 'e_300.pt', UNet2DModelWrapper]\n",
    "}\n",
    "models = load_models(model_info)"
   ]
  },
  {
   "cell_type": "code",
   "execution_count": 3,
   "id": "0d21b380",
   "metadata": {},
   "outputs": [
    {
     "name": "stdout",
     "output_type": "stream",
     "text": [
      "loading pp_100\n",
      "min epoch: 97\n",
      "min train loss: 0.017852500817962372\n",
      "min val loss epoch: 98\n",
      "min val loss: 0.07272534998690088\n",
      "----------------------------------\n"
     ]
    }
   ],
   "source": [
    "# compute these values for all models\n",
    "from fco2models.ueval import print_loss_info\n",
    "for key in models.keys():\n",
    "    print(f'loading {key}')\n",
    "    print_loss_info(models[key])"
   ]
  },
  {
   "cell_type": "code",
   "execution_count": 4,
   "id": "10ba1772",
   "metadata": {},
   "outputs": [
    {
     "name": "stderr",
     "output_type": "stream",
     "text": [
      "2025-06-02 11:05:39,097 - INFO - salinity stacking\n",
      "2025-06-02 11:05:39,106 - INFO - adding positional and temporal encodings\n",
      "2025-06-02 11:05:39,124 - INFO - add climatology data\n",
      "2025-06-02 11:05:48,007 - INFO - adding xco2 data\n",
      "2025-06-02 11:05:48,300 - INFO - adding seamask data\n",
      "2025-06-02 11:14:39,891 - INFO - removing xco2 levels from fco2rec_uatm\n",
      "2025-06-02 11:14:39,896 - INFO - replacing outliers with Nans, fco2rec_uatm > 400\n"
     ]
    },
    {
     "name": "stdout",
     "output_type": "stream",
     "text": [
      "Index(['index', 'expocode', 'window_id', 'time_1d', 'lat', 'lon', 'sal',\n",
      "       'sst_deg_c', 'pppp_hpa', 'woa_sss', 'ncep_slp_hpa', 'dist_to_land_km',\n",
      "       'fco2rec_uatm', 'fco2rec_flag', 'time', 'year', 'temp_soda',\n",
      "       'salt_soda', 'mld_dens_soda', 'lon_soda', 'lat_soda', 'depth_soda',\n",
      "       'time_soda', 'sst_cci', 'sst_cci_uncertainty', 'ice_cci', 'time_sstcci',\n",
      "       'lat_sstcci', 'lon_sstcci', 'interpolated', 'bin_id', 'segment_id',\n",
      "       'ssh_adt', 'ssh_sla', 'lat_sshcm', 'lon_sshcm', 'time_sshcm',\n",
      "       'chl_globcolour', 'chl_globcolour_uncert', 'chl_globcolour_flags',\n",
      "       'time_chlgc', 'lat_chlgc', 'lon_chlgc', 'sss_cci',\n",
      "       'sss_cci_random_error', 'lat_ssscci', 'lon_ssscci', 'time_ssscci',\n",
      "       'day_of_year', 'sin_day_of_year', 'cos_day_of_year', 'sin_lat',\n",
      "       'sin_lon_cos_lat', 'cos_lon_cos_lat', 'sin_lon', 'cos_lon', 'is_north',\n",
      "       'co2_clim8d', 'xco2', 'seamask', 'expocode_id'],\n",
      "      dtype='object')\n"
     ]
    }
   ],
   "source": [
    "import pandas as pd\n",
    "import numpy as np\n",
    "from fco2models.utraining import prep_df, make_monthly_split, get_segments_random, get_segments, get_context_mask, normalize_dss, get_stats_df\n",
    "DATA_PATH = \"../data/training_data/\"\n",
    "df = pd.read_parquet(DATA_PATH + \"SOCAT_1982_2021_grouped_colloc_augm_bin.pq\", engine='pyarrow')[:10000]\n",
    "df = prep_df(df, bound=True)[0]\n",
    "#map expocode column to int\n",
    "expocode_map = df['expocode'].unique()\n",
    "expocode_map = {expocode: i for i, expocode in enumerate(expocode_map)}\n",
    "df['expocode_id'] = df['expocode'].map(expocode_map) \n",
    "print(df.columns)"
   ]
  },
  {
   "cell_type": "code",
   "execution_count": 5,
   "id": "191395e1",
   "metadata": {},
   "outputs": [
    {
     "data": {
      "text/plain": [
       "{'069920180814': 0,\n",
       " '069920180921': 1,\n",
       " '069920181126': 2,\n",
       " '069920190503': 3,\n",
       " '069920190509': 4,\n",
       " '069920190602': 5,\n",
       " '069920190803': 6,\n",
       " '069920200703': 7,\n",
       " '069920201009': 8,\n",
       " '069920201108': 9,\n",
       " '069920201125': 10,\n",
       " '069920201211': 11,\n",
       " '069920201226': 12,\n",
       " '069920210106': 13}"
      ]
     },
     "execution_count": 5,
     "metadata": {},
     "output_type": "execute_result"
    }
   ],
   "source": [
    "expocode_map"
   ]
  },
  {
   "cell_type": "code",
   "execution_count": null,
   "id": "8fc72b2b",
   "metadata": {},
   "outputs": [],
   "source": []
  }
 ],
 "metadata": {
  "kernelspec": {
   "display_name": ".venv",
   "language": "python",
   "name": "python3"
  },
  "language_info": {
   "codemirror_mode": {
    "name": "ipython",
    "version": 3
   },
   "file_extension": ".py",
   "mimetype": "text/x-python",
   "name": "python",
   "nbconvert_exporter": "python",
   "pygments_lexer": "ipython3",
   "version": "3.12.10"
  }
 },
 "nbformat": 4,
 "nbformat_minor": 5
}
