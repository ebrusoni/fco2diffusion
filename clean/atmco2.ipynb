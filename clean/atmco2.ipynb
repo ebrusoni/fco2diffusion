{
 "cells": [
  {
   "cell_type": "code",
   "execution_count": 63,
   "id": "97c88920",
   "metadata": {},
   "outputs": [],
   "source": [
    "import xarray as xr\n",
    "import numpy as np\n",
    "import pandas as pd\n",
    "\n",
    "val_df = pd.read_parquet('../data/training_data/valdf_100km_random_reshaped.pq')\n",
    "val_df2021 = pd.read_parquet('../data/training_data/df_100km_random_reshaped_2021.pq')\n",
    "train_df = pd.read_parquet('../data/training_data/traindf_100km_random_reshaped.pq')"
   ]
  },
  {
   "cell_type": "code",
   "execution_count": 64,
   "id": "98796999",
   "metadata": {},
   "outputs": [],
   "source": [
    "def add_xco2(df):\n",
    "    day_year = df[['day_of_year', 'year']].astype(int)\n",
    "    df['time'] = pd.to_datetime(day_year['day_of_year'].astype(str) + day_year['year'].astype(str), format='%j%Y')\n",
    "\n",
    "    \n",
    "    selector = df[['lat', 'time']].to_xarray()\n",
    "    xco2mbl = xr.open_dataarray('../data/atmco2/xco2mbl-timeP7D_1D-lat25km.nc')\n",
    "    matched_xco2 = xco2mbl.sel(**selector, method='nearest').to_series()\n",
    "    df['xco2'] = matched_xco2\n",
    "\n",
    "    return df "
   ]
  },
  {
   "cell_type": "code",
   "execution_count": null,
   "id": "90b74a0a",
   "metadata": {},
   "outputs": [
    {
     "name": "stdout",
     "output_type": "stream",
     "text": [
      "Number of segments with one year value which is nan: 2317\n"
     ]
    }
   ],
   "source": [
    "# find all segments in vald_df2021 which have one year value whihc is nan and remove them from the dataframe\n",
    "# for val_df and train_df this was already done in make_augmented_set.ipynb\n",
    "segments = val_df2021.groupby('segment').filter(\n",
    "    lambda x: x['year'].isna().any()\n",
    "    ).index.get_level_values('segment').unique()\n",
    "print(f\"Number of segments with one year value which is nan: {len(segments)}\")\n",
    "# segment is aprt of he index\n",
    "val_df2021 = val_df2021.reset_index()\n",
    "val_df2021 = val_df2021[~val_df2021['segment'].isin(segments)]\n",
    "val_df2021 = val_df2021.set_index(['segment', 'bin'])\n"
   ]
  },
  {
   "cell_type": "code",
   "execution_count": 76,
   "id": "76bd583a",
   "metadata": {},
   "outputs": [
    {
     "name": "stdout",
     "output_type": "stream",
     "text": [
      "Number of nan values in year: 0\n",
      "Number of nan values in day_of_year: 0\n",
      "Number of nan values in year: 0\n",
      "Number of nan values in day_of_year: 0\n",
      "Number of nan values in year: 0\n",
      "Number of nan values in day_of_year: 0\n"
     ]
    }
   ],
   "source": [
    "# check if year and day_of_year contain nan values\n",
    "print(f\"Number of nan values in year: {val_df2021['year'].isna().sum()}\")\n",
    "print(f\"Number of nan values in day_of_year: {val_df2021['day_of_year'].isna().sum()}\")\n",
    "print(f\"Number of nan values in year: {train_df['year'].isna().sum()}\")\n",
    "print(f\"Number of nan values in day_of_year: {train_df['day_of_year'].isna().sum()}\")\n",
    "print(f\"Number of nan values in year: {val_df['year'].isna().sum()}\")\n",
    "print(f\"Number of nan values in day_of_year: {val_df['day_of_year'].isna().sum()}\")"
   ]
  },
  {
   "cell_type": "code",
   "execution_count": 71,
   "id": "2f7599fe",
   "metadata": {},
   "outputs": [],
   "source": [
    "val_df = add_xco2(val_df)\n",
    "vald_df2021 = add_xco2(val_df2021)\n",
    "train_df = add_xco2(train_df)"
   ]
  },
  {
   "cell_type": "code",
   "execution_count": 72,
   "id": "f3c78483",
   "metadata": {},
   "outputs": [
    {
     "data": {
      "text/plain": [
       "(True, True, True)"
      ]
     },
     "execution_count": 72,
     "metadata": {},
     "output_type": "execute_result"
    }
   ],
   "source": [
    "val_df.index.is_unique, vald_df2021.index.is_unique, train_df.index.is_unique"
   ]
  },
  {
   "cell_type": "code",
   "execution_count": 73,
   "id": "2c0494bf",
   "metadata": {},
   "outputs": [
    {
     "data": {
      "text/plain": [
       "(np.int64(0), np.int64(0), np.int64(0))"
      ]
     },
     "execution_count": 73,
     "metadata": {},
     "output_type": "execute_result"
    }
   ],
   "source": [
    "# check for nans in xco2 column\n",
    "val_df['xco2'].isna().sum(), val_df2021['xco2'].isna().sum(), train_df['xco2'].isna().sum()"
   ]
  },
  {
   "cell_type": "code",
   "execution_count": 74,
   "id": "acbe49e0",
   "metadata": {},
   "outputs": [],
   "source": [
    "# sve the dataframes to parquet files\n",
    "val_df.to_parquet('../data/training_data/valdf_100km_xco2.pq')\n",
    "val_df2021.to_parquet('../data/training_data/df_100km_xco2_2021.pq')\n",
    "train_df.to_parquet('../data/training_data/traindf_100km_xco2.pq')"
   ]
  }
 ],
 "metadata": {
  "kernelspec": {
   "display_name": ".venv",
   "language": "python",
   "name": "python3"
  },
  "language_info": {
   "codemirror_mode": {
    "name": "ipython",
    "version": 3
   },
   "file_extension": ".py",
   "mimetype": "text/x-python",
   "name": "python",
   "nbconvert_exporter": "python",
   "pygments_lexer": "ipython3",
   "version": "3.12.9"
  }
 },
 "nbformat": 4,
 "nbformat_minor": 5
}
